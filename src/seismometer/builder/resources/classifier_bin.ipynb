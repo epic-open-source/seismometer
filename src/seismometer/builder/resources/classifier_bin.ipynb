{
 "cells": [
  {
   "cell_type": "markdown",
   "id": "291685fe-6573-4cc9-a0a9-9843f8e2566b",
   "metadata": {
    "editable": true,
    "sg-id": "title",
    "slideshow": {
     "slide_type": ""
    },
    "tags": [
     "sg-text",
     "sg-contrib"
    ]
   },
   "source": [
    "# <span style=\"background-color: yellow; color: black\">Seismogram Title</span>"
   ]
  },
  {
   "cell_type": "markdown",
   "id": "c0db91ab-0b51-4747-8092-0e67e0bb00ca",
   "metadata": {
    "editable": true,
    "sg-id": "title-detail",
    "slideshow": {
     "slide_type": ""
    },
    "tags": [
     "sg-text",
     "sg-contrib"
    ]
   },
   "source": [
    "✨✨<span style=\"background-color: yellow; color: black\">This is a short blurb on what model is being analyzed</span>✨✨"
   ]
  },
  {
   "cell_type": "markdown",
   "id": "b040c123",
   "metadata": {},
   "source": [
    "### Documentation\n",
    "To find out more about ``seismometer``, see the [documentation](https://epic-open-source.github.io/seismometer/) on GitHub."
   ]
  },
  {
   "cell_type": "markdown",
   "id": "21706f75-9ac8-4463-b6c6-347daa63a1de",
   "metadata": {
    "editable": true,
    "slideshow": {
     "slide_type": ""
    },
    "tags": [
     "sg-text",
     "sg-detailed",
     "remove_input"
    ]
   },
   "source": [
    "### Usage\n",
    "Explore data from your organization's model including predictions, outcomes, interventions, and sensitive cohorts.  \n",
    "Use ```sm.show_info()``` to explore what is available."
   ]
  },
  {
   "cell_type": "code",
   "execution_count": null,
   "id": "41436410-c885-433a-bafe-831d90684096",
   "metadata": {
    "editable": true,
    "slideshow": {
     "slide_type": ""
    },
    "tags": [
     "remove_input",
     "remove_output"
    ]
   },
   "outputs": [],
   "source": [
    "%matplotlib inline\n",
    "\n",
    "import seismometer as sm\n",
    "sm.run_startup(config_path='.')"
   ]
  },
  {
   "cell_type": "code",
   "execution_count": null,
   "id": "ff21cc59-2e68-4084-bf79-eafc738fe868",
   "metadata": {
    "editable": true,
    "slideshow": {
     "slide_type": ""
    },
    "tags": [
     "remove_input",
     "sg-text"
    ]
   },
   "outputs": [],
   "source": [
    "sm.show_info(plot_help=True)"
   ]
  },
  {
   "cell_type": "markdown",
   "id": "84729f1e-a122-4c39-b536-71e0d318890b",
   "metadata": {
    "editable": true,
    "sg-id": "definitions",
    "slideshow": {
     "slide_type": ""
    },
    "tags": [
     "sg-detailed",
     "sg-contrib"
    ]
   },
   "source": [
    "| Term                     | Definition                                                                                                                             |\n",
    "|--------------------------|----------------------------------------------------------------------------------------------------------------------------------------|\n",
    "| Sensitivity (Recall)     | Sensitivity is a model's true positive rate: The proportion of entities in the dataset that met the target criteria and were correctly scored above the threshold set for the model. |\n",
    "| Specificity              | Specificity is a model's true negative rate: The proportion of entities in the dataset that did not meet the target criteria and were correctly scored below the threshold set for the model. |\n",
    "| PPV (Precision)          | PPV is the positive predictive value of a model: How likely an entity above the selected threshold is to have met the target criteria.   |\n",
    "| NPV                      | NPV is the negative predictive value of a model: How likely an entity below the selected threshold is to not have met the target criteria. |\n",
    "| AUROC                    | AUROC is the area under the receiver operating characteristic curve, otherwise known as the C-stat of a model. This metric is an aggregate measure of how well a model performs across all possible thresholds for a given model. The AUROC does not assess performance at a specific threshold. |\n",
    "| Flag Rate                | The flag rate is the proportion of entities that would be identified as positive cases by the model at the selected threshold.           |\n",
    "| Observed Rate            | The observed rate is the proportion of entities that met the target criteria.                                                          |"
   ]
  },
  {
   "cell_type": "markdown",
   "id": "fa188b0d-0154-408b-a90f-01ad52e067b6",
   "metadata": {
    "editable": true,
    "slideshow": {
     "slide_type": ""
    }
   },
   "source": [
    "## Overview"
   ]
  },
  {
   "cell_type": "markdown",
   "id": "abf22184-3259-47fd-89b5-b0e7c2c431c0",
   "metadata": {
    "editable": true,
    "slideshow": {
     "slide_type": ""
    },
    "tags": [
     "sg-text"
    ]
   },
   "source": [
    "#### ℹ Info"
   ]
  },
  {
   "cell_type": "markdown",
   "id": "1b1e7707-db5f-4698-b594-862dc312bd08",
   "metadata": {
    "editable": true,
    "sg-id": "overview-summary",
    "slideshow": {
     "slide_type": ""
    },
    "tags": [
     "sg-text",
     "sg-contrib"
    ]
   },
   "source": [
    "✨✨<span style=\"background-color: yellow; color: black\">**Model Overview:** Is a more thorough description of the model, intended usage, and expected output</span>✨✨"
   ]
  },
  {
   "cell_type": "markdown",
   "id": "ef425af7-42af-4390-a49c-7e72da975900",
   "metadata": {
    "editable": true,
    "slideshow": {
     "slide_type": ""
    },
    "tags": [
     "sg-text"
    ]
   },
   "source": [
    "#### Selection"
   ]
  },
  {
   "cell_type": "markdown",
   "id": "6e9cb8bf-b521-4187-ad2b-e9f5c0d7fe1f",
   "metadata": {
    "editable": true,
    "sg-id": "overview-selection",
    "slideshow": {
     "slide_type": ""
    },
    "tags": [
     "sg-text",
     "sg-contrib",
     "sg-detailed"
    ]
   },
   "source": [
    "✨✨<span style=\"background-color: yellow; color: black\">An explanation of cohorts and their definitions can be inserted here</span>✨✨"
   ]
  },
  {
   "cell_type": "code",
   "execution_count": null,
   "id": "f4c9cdf2-bb4f-40a1-b688-7c33dbdba217",
   "metadata": {
    "editable": true,
    "slideshow": {
     "slide_type": ""
    },
    "tags": [
     "remove_input",
     "remove_output"
    ]
   },
   "outputs": [],
   "source": [
    "sm.cohort_list()"
   ]
  },
  {
   "cell_type": "markdown",
   "id": "db4ffe94-2fb0-4386-a253-ba2485fab231",
   "metadata": {
    "editable": true,
    "slideshow": {
     "slide_type": ""
    },
    "tags": [
     "sg-text"
    ]
   },
   "source": [
    "## Feature Monitor"
   ]
  },
  {
   "cell_type": "markdown",
   "id": "91d79a5d-27a6-4928-af69-d071d084b82f",
   "metadata": {
    "editable": true,
    "slideshow": {
     "slide_type": ""
    },
    "tags": [
     "sg-text"
    ]
   },
   "source": [
    "### ℹ Info"
   ]
  },
  {
   "cell_type": "markdown",
   "id": "e0e48d2a-2168-400c-9de9-f60b7719c010",
   "metadata": {
    "editable": true,
    "sg-id": "feature-summary",
    "slideshow": {
     "slide_type": ""
    },
    "tags": [
     "sg-text",
     "sg-contrib"
    ]
   },
   "source": [
    "✨✨<span style=\"background-color: yellow; color: black\">Add guidance here on what features are most useful to always look at and which might be ok even when there are normal levels for alerting.  Rare labs or other documentation could be very indicative of the target but have unusually high missingness.</span>✨✨"
   ]
  },
  {
   "cell_type": "markdown",
   "id": "2f7f2de9-dc8d-470f-a78c-4ff3716553ab",
   "metadata": {
    "editable": true,
    "slideshow": {
     "slide_type": ""
    },
    "tags": [
     "sg-text",
     "sg-detailed"
    ]
   },
   "source": [
    "**Tips**: \n",
    " - See [feature monitoring](https://epic-open-source.github.io/seismometer/user_guide/index.html#feature-monitor) for more details.\n",
    " - This section provides insight into model inputs, demographics, and the set of interventions and outcomes. During early stages this will help validate configuration; afterwards it will assist with detecting feature and population drift. Read through the alerts identified for your data, dig deeper using the feature, demographic, and event summaries, or by comparing across targets or demographics.\n",
    " - **Other Warnings:** The variable profiles below will identify any concerning trends in feature distributions. Depending on the model, you may want to do additional configuration to silence these alerts until certain thresholds are met. \n",
    " - Run the `sm.feature_summary()`/`sm.cohort_comparison_report()`/`sm.target_feature_summary()` functions in the cells below to get a report for the corresponding dataset."
   ]
  },
  {
   "cell_type": "markdown",
   "id": "09454223-a73b-482f-86eb-2fc6bf914630",
   "metadata": {
    "editable": true,
    "slideshow": {
     "slide_type": ""
    },
    "tags": [
     "sg-text"
    ]
   },
   "source": [
    "### Reports"
   ]
  },
  {
   "cell_type": "markdown",
   "id": "87065d8f-05fb-4f6b-a5f6-1651e9150b64",
   "metadata": {
    "editable": true,
    "slideshow": {
     "slide_type": ""
    },
    "tags": [
     "sg-text"
    ]
   },
   "source": [
    "#### Feature Alerts\n",
    "View automatically identified data quality issues for the model inputs in your dataset"
   ]
  },
  {
   "cell_type": "code",
   "execution_count": null,
   "id": "f3f4a484-4c0a-44d5-b9bf-39976450108d",
   "metadata": {
    "editable": true,
    "slideshow": {
     "slide_type": ""
    },
    "tags": [
     "remove_input",
     "remove_output"
    ]
   },
   "outputs": [],
   "source": [
    "sm.feature_alerts()"
   ]
  },
  {
   "cell_type": "markdown",
   "id": "ee8ca97f",
   "metadata": {
    "editable": true,
    "slideshow": {
     "slide_type": ""
    },
    "tags": [
     "sg-text"
    ]
   },
   "source": [
    "#### Feature Summary Statistics and Plots\n",
    "View the summary statistics and distributions for the model inputs in your dataset. "
   ]
  },
  {
   "cell_type": "code",
   "execution_count": null,
   "id": "a295ac9b-7350-4d0f-9ee2-40c83f10a211",
   "metadata": {
    "editable": true,
    "slideshow": {
     "slide_type": ""
    },
    "tags": [
     "remove_input"
    ]
   },
   "outputs": [],
   "source": [
    "sm.feature_summary()"
   ]
  },
  {
   "cell_type": "markdown",
   "id": "82aa5550",
   "metadata": {
    "editable": true,
    "slideshow": {
     "slide_type": ""
    },
    "tags": [
     "sg-text"
    ]
   },
   "source": [
    "#### Summarize Features by Cohort Subgroup\n",
    "Run `sm.cohort_comparison_report()`, select two different groups to compare, and hit `Generate Report` to generate a comparative feature report."
   ]
  },
  {
   "cell_type": "code",
   "execution_count": null,
   "id": "78bdf601-6623-49c7-95bf-fb96929d6072",
   "metadata": {
    "editable": true,
    "slideshow": {
     "slide_type": ""
    },
    "tags": [
     "remove_input"
    ]
   },
   "outputs": [],
   "source": [
    "sm.cohort_comparison_report()"
   ]
  },
  {
   "cell_type": "markdown",
   "id": "8e0692b0",
   "metadata": {
    "editable": true,
    "slideshow": {
     "slide_type": ""
    },
    "tags": [
     "sg-text",
     "sg-detailed"
    ]
   },
   "source": [
    "#### Summarize Features by Target\n",
    "Run `sm.target_feature_summary()` to get a link to a breakdown of your features stratified by the different target values."
   ]
  },
  {
   "cell_type": "markdown",
   "id": "bad4fc3a-0dfa-44e2-b049-85cbbff6265e",
   "metadata": {
    "editable": true,
    "sg-id": "feature-target",
    "slideshow": {
     "slide_type": ""
    },
    "tags": [
     "sg-text",
     "sg-contrib"
    ]
   },
   "source": [
    "✨✨<span style=\"background-color: yellow; color: black\">Describe the default target being used for ground truth and any differences between it and how the model predictions might be used in practice.</span>✨✨"
   ]
  },
  {
   "cell_type": "code",
   "execution_count": null,
   "id": "3b2a71f2-31dd-4c28-8172-c66182a6952a",
   "metadata": {
    "editable": true,
    "slideshow": {
     "slide_type": ""
    },
    "tags": [
     "remove_input"
    ]
   },
   "outputs": [],
   "source": [
    "sm.target_feature_summary()"
   ]
  },
  {
   "cell_type": "markdown",
   "id": "84a2471f-ad03-4c8f-a9cc-307943c27f10",
   "metadata": {
    "editable": true,
    "slideshow": {
     "slide_type": ""
    },
    "tags": [
     "sg-text"
    ]
   },
   "source": [
    "## Model Performance"
   ]
  },
  {
   "cell_type": "markdown",
   "id": "570d9135-052c-424c-b492-3b1de4e6b809",
   "metadata": {
    "editable": true,
    "slideshow": {
     "slide_type": ""
    },
    "tags": [
     "sg-text"
    ]
   },
   "source": [
    "### Overall"
   ]
  },
  {
   "cell_type": "markdown",
   "id": "3f772722-ea0c-4306-80c9-beb46f47c812",
   "metadata": {
    "editable": true,
    "slideshow": {
     "slide_type": ""
    },
    "tags": [
     "sg-text"
    ]
   },
   "source": [
    "####  ℹ Info"
   ]
  },
  {
   "cell_type": "markdown",
   "id": "278e362a-38d1-4f23-bfed-fd17f492dcac",
   "metadata": {
    "editable": true,
    "sg-id": "performance-overall",
    "slideshow": {
     "slide_type": ""
    },
    "tags": [
     "sg-text"
    ]
   },
   "source": [
    "**Model Performance Plots**\n",
    "\n",
    "See [model performance plots](https://epic-open-source.github.io/seismometer/user_guide/index.html#model-performance) for more details."
   ]
  },
  {
   "cell_type": "markdown",
   "id": "1a40c22c-96eb-4b91-bddb-03ffb502181c",
   "metadata": {
    "editable": true,
    "slideshow": {
     "slide_type": ""
    },
    "tags": [
     "sg-text",
     "sg-detailed",
     "remove_input"
    ]
   },
   "source": [
    "**Tips:**\n",
    " - Thresholds configured for the model are highlighted on the graphs.\n",
    " - Use `sm.ExploreModelEvaluation()` to get model evaluation plots for your model."
   ]
  },
  {
   "cell_type": "markdown",
   "id": "ebcdda36-47c6-493d-9dc2-fa8455b0ea42",
   "metadata": {
    "editable": true,
    "sg-id": "performance-overall",
    "slideshow": {
     "slide_type": ""
    },
    "tags": [
     "sg-text",
     "sg-contrib"
    ]
   },
   "source": [
    "✨✨<span style=\"background-color: yellow; color: black\">Add reference points for what performance has been seen in literature or other baselines for comparison; Explain what counts as good/bad.  The plots themselves have been described in a prior markdown cell</span>✨✨"
   ]
  },
  {
   "cell_type": "markdown",
   "id": "7f116273-e24f-4dba-8e51-aad9f63cff63",
   "metadata": {
    "editable": true,
    "slideshow": {
     "slide_type": ""
    },
    "tags": [
     "sg-text"
    ]
   },
   "source": [
    "#### Visuals"
   ]
  },
  {
   "cell_type": "code",
   "execution_count": null,
   "id": "95145143",
   "metadata": {
    "editable": true,
    "slideshow": {
     "slide_type": ""
    },
    "tags": [
     "remove_input"
    ]
   },
   "outputs": [],
   "source": [
    "sm.ExploreModelEvaluation()"
   ]
  },
  {
   "cell_type": "markdown",
   "id": "4ca1a469-a6f4-46ba-9602-938f517f52d4",
   "metadata": {},
   "source": [
    "### Fairness Overview"
   ]
  },
  {
   "cell_type": "markdown",
   "id": "95c6cecf-702e-4b9c-81e1-6731561c42bd",
   "metadata": {
    "editable": true,
    "slideshow": {
     "slide_type": ""
    },
    "tags": []
   },
   "source": [
    "#### ℹ Info"
   ]
  },
  {
   "cell_type": "markdown",
   "id": "387dd605-63c7-454f-b209-a72dbe5efe4b",
   "metadata": {},
   "source": [
    "See [fairness audit](https://epic-open-source.github.io/seismometer/user_guide/index.html#fairness-audit) for more details."
   ]
  },
  {
   "cell_type": "markdown",
   "id": "453dd894-dd74-4454-adae-d325f20c379d",
   "metadata": {
    "editable": true,
    "sg-id": "fairness-audit",
    "slideshow": {
     "slide_type": ""
    },
    "tags": [
     "sg-text",
     "sg-contrib"
    ]
   },
   "source": [
    "✨✨<span style=\"background-color: yellow; color: black\">Any expected cohorts or metrics that are particularly important as well as understood differences that are not expected to be tied to disparities should be called out</span>✨✨"
   ]
  },
  {
   "cell_type": "code",
   "execution_count": null,
   "id": "01b99f40-fab4-46c2-8764-e0469acafdd1",
   "metadata": {},
   "outputs": [],
   "source": [
    "sm.ExploreFairnessAudit()"
   ]
  },
  {
   "cell_type": "markdown",
   "id": "36a0c635-c9a4-4cd8-9d7a-b2f86ea37a80",
   "metadata": {
    "editable": true,
    "slideshow": {
     "slide_type": ""
    },
    "tags": [
     "sg-text"
    ]
   },
   "source": [
    "### Cohort Analysis "
   ]
  },
  {
   "cell_type": "markdown",
   "id": "89924d36-f26e-4def-b642-34f06df53df9",
   "metadata": {
    "editable": true,
    "jp-MarkdownHeadingCollapsed": true,
    "slideshow": {
     "slide_type": ""
    },
    "tags": [
     "sg-text"
    ]
   },
   "source": [
    "#### ℹ Info"
   ]
  },
  {
   "cell_type": "markdown",
   "id": "e90f416d-d1e7-4bd0-baea-ef831b2f64de",
   "metadata": {
    "editable": true,
    "slideshow": {
     "slide_type": ""
    },
    "tags": [
     "sg-text"
    ]
   },
   "source": [
    "**Cohort Performance Plots**\n",
    "\n",
    "See [cohort comparisons](https://epic-open-source.github.io/seismometer/user_guide/index.html#cohort-analysis) for more details."
   ]
  },
  {
   "cell_type": "markdown",
   "id": "7be95f01-f564-4b42-9d37-28d4a36c51c3",
   "metadata": {
    "editable": true,
    "slideshow": {
     "slide_type": ""
    },
    "tags": [
     "sg-text",
     "sg-detailed",
     "remove_input"
    ]
   },
   "source": [
    "**Tips:**\n",
    " - Thresholds configured for the model are highlighted on the graphs.\n",
    " - Use `sm.ExploreCohortEvaluation()` to get model evaluation plots for your model split by cohort subgroups."
   ]
  },
  {
   "cell_type": "markdown",
   "id": "deb62e85-bef4-46cd-800e-cfc75d9027f2",
   "metadata": {
    "editable": true,
    "sg-id": "performance-cohorts",
    "slideshow": {
     "slide_type": ""
    },
    "tags": [
     "sg-text",
     "sg-contrib"
    ]
   },
   "source": [
    "✨✨<span style=\"background-color: yellow; color: black\">Add reference points for what performance has been seen in literature. Similar to model performance but focused on a selected cohortThe plots themselves have been described in a prior markdown cell</span>✨✨"
   ]
  },
  {
   "cell_type": "markdown",
   "id": "3e6b1d43-77f0-42c8-b8d6-92e92f92dfd6",
   "metadata": {
    "editable": true,
    "slideshow": {
     "slide_type": ""
    },
    "tags": [
     "sg-text"
    ]
   },
   "source": [
    "#### Visuals"
   ]
  },
  {
   "cell_type": "code",
   "execution_count": null,
   "id": "d958d21d-2697-4480-b7b6-0dbe31bf2980",
   "metadata": {},
   "outputs": [],
   "source": [
    "sm.show_cohort_summaries(by_target=False, by_score=False)"
   ]
  },
  {
   "cell_type": "code",
   "execution_count": null,
   "id": "ebbd880f-8f47-4c0b-a40d-45150df567f9",
   "metadata": {
    "editable": true,
    "slideshow": {
     "slide_type": ""
    },
    "tags": [
     "remove_input"
    ]
   },
   "outputs": [],
   "source": [
    "sm.ExploreCohortEvaluation()"
   ]
  },
  {
   "cell_type": "markdown",
   "id": "0d7b3b56-d14f-4bad-bb36-4f165873c5e1",
   "metadata": {
    "editable": true,
    "slideshow": {
     "slide_type": ""
    },
    "tags": [
     "sg-text"
    ]
   },
   "source": [
    "## Outcomes"
   ]
  },
  {
   "cell_type": "markdown",
   "id": "1757fda1",
   "metadata": {},
   "source": [
    "Success of integrating a predictive model depends on more than just the model's performance. Often, it can be determined by how well the model is integrated and how effectively (and equitably) interventions are applied. This section is intended to help analyze interventions and outcomes across sensitive groups or risk categories. See [analyzing outcomes](https://epic-open-source.github.io/seismometer/user_guide/index.html#outcomes) for more details."
   ]
  },
  {
   "cell_type": "markdown",
   "id": "126b4e45-1972-4e3c-8db6-a144c2a574d6",
   "metadata": {
    "editable": true,
    "slideshow": {
     "slide_type": ""
    },
    "tags": [
     "sg-text"
    ]
   },
   "source": [
    "### Trend comparison"
   ]
  },
  {
   "cell_type": "markdown",
   "id": "0a533d7c-7d9b-4b82-9a64-017fc73fd87b",
   "metadata": {
    "editable": true,
    "sg-id": "outcomes-trend",
    "slideshow": {
     "slide_type": ""
    },
    "tags": [
     "sg-text",
     "sg-contrib"
    ]
   },
   "source": [
    "✨✨<span style=\"background-color: yellow; color: black\">Add information on the first configured intervention and outcome, what a successful workflow is expected to look like and what would need further review</span>✨✨"
   ]
  },
  {
   "cell_type": "code",
   "execution_count": null,
   "id": "1fac5315",
   "metadata": {},
   "outputs": [],
   "source": [
    "sm.ExploreCohortOutcomeInterventionTimes()"
   ]
  },
  {
   "cell_type": "markdown",
   "id": "ffdf61bf-646e-4823-ba11-509a1dcbab92",
   "metadata": {
    "editable": true,
    "slideshow": {
     "slide_type": ""
    },
    "tags": [
     "sg-text"
    ]
   },
   "source": [
    "### Lead-time Analysis "
   ]
  },
  {
   "cell_type": "markdown",
   "id": "b2b70ae9-5c5c-4b2b-be1c-56b7908740c9",
   "metadata": {
    "editable": true,
    "slideshow": {
     "slide_type": ""
    },
    "tags": [
     "sg-text"
    ]
   },
   "source": [
    "#### ℹ Info"
   ]
  },
  {
   "cell_type": "markdown",
   "id": "5c318cb5-1c0e-4203-80da-a4ba6e60ef3b",
   "metadata": {
    "editable": true,
    "slideshow": {
     "slide_type": ""
    },
    "tags": [
     "sg-text",
     "sg-detailed"
    ]
   },
   "source": [
    "Lead-time analysis is focused on revealing the amount of time that a high prediction gives before an event of interest.  These analyses implicitly restrict data to the positive cohort, as that is expected to be the place time the event occurs.\n",
    "The visualization uses violin plots, where each distribution of the subpopulation is represented as a vertical, mirrored density plot. The inner box within the violin plot highlights the interquartile range, while the central line indicates the median. When the distributions overlap significantly, it indicates that the model is providing equal opportunity for action to be taken based on the scores across the cohort groups."
   ]
  },
  {
   "cell_type": "markdown",
   "id": "9a4e7cc7-1428-45ec-b46f-77e0235f3feb",
   "metadata": {
    "editable": true,
    "sg-id": "outcomes-leadtime",
    "slideshow": {
     "slide_type": ""
    },
    "tags": [
     "sg-text",
     "sg-contrib"
    ]
   },
   "source": [
    "✨✨<span style=\"background-color: yellow; color: black\">Add information on what leadtime means in the context of your model; Re-emphasize any windowing done for the target that filters the perspective .</span>✨✨"
   ]
  },
  {
   "cell_type": "markdown",
   "id": "c6f13813-cb6a-4b8f-9a9c-a4e4852d7a2b",
   "metadata": {
    "editable": true,
    "slideshow": {
     "slide_type": ""
    },
    "tags": [
     "sg-text"
    ]
   },
   "source": [
    "#### Visuals"
   ]
  },
  {
   "cell_type": "code",
   "execution_count": null,
   "id": "2c1a0e7e-2624-490e-9b14-7cd8f6a0a7c8",
   "metadata": {
    "editable": true,
    "slideshow": {
     "slide_type": ""
    },
    "tags": [
     "remove_input"
    ]
   },
   "outputs": [],
   "source": [
    "sm.ExploreCohortLeadTime()"
   ]
  }
 ],
 "metadata": {
  "kernelspec": {
   "display_name": "Python 3 (ipykernel)",
   "language": "python",
   "name": "python3"
  },
  "language_info": {
   "codemirror_mode": {
    "name": "ipython",
    "version": 3
   },
   "file_extension": ".py",
   "mimetype": "text/x-python",
   "name": "python",
   "nbconvert_exporter": "python",
   "pygments_lexer": "ipython3",
   "version": "3.10.14"
  },
  "toc-autonumbering": false,
  "toc-showcode": false,
  "toc-showmarkdowntxt": false,
  "toc-showtags": false,
  "widgets": {
   "application/vnd.jupyter.widget-state+json": {
    "state": {
     "20bb458095be4735b5474711c1f02ccc": {
      "model_module": "@jupyter-widgets/controls",
      "model_module_version": "2.0.0",
      "model_name": "DropdownModel",
      "state": {
       "_options_labels": [
        "Age_Group",
        "Ethnicity",
        "Payer",
        "Race",
        "Sex",
        "Gender"
       ],
       "description": "Cohort",
       "index": 0,
       "layout": "IPY_MODEL_5dfd23868dc448008e09ae50f42b9d2d",
       "style": "IPY_MODEL_83b0e9b1892c48cfb0a67e02fddd3dee"
      }
     },
     "41e1f78c7c8a4bdfb34814c59679f033": {
      "model_module": "@jupyter-widgets/controls",
      "model_module_version": "2.0.0",
      "model_name": "DescriptionStyleModel",
      "state": {
       "description_width": ""
      }
     },
     "49922f6515544a63bb22aeaa9824380b": {
      "model_module": "@jupyter-widgets/controls",
      "model_module_version": "2.0.0",
      "model_name": "SelectMultipleModel",
      "state": {
       "_options_labels": [
        "<18",
        "18-30",
        "30-40",
        "40-50",
        "50-65",
        ">65"
       ],
       "description": "Subgroups",
       "index": [
        1,
        2
       ],
       "layout": "IPY_MODEL_a2a79e3ab00544cfa5c388a235e16150",
       "rows": 5,
       "style": "IPY_MODEL_41e1f78c7c8a4bdfb34814c59679f033"
      }
     },
     "4e6f9c3470ca43a1ae2a4c032b33f7a7": {
      "model_module": "@jupyter-widgets/controls",
      "model_module_version": "2.0.0",
      "model_name": "DescriptionStyleModel",
      "state": {
       "description_width": ""
      }
     },
     "5476caa56d3c411e8e757b3ec244c853": {
      "model_module": "@jupyter-widgets/base",
      "model_module_version": "2.0.0",
      "model_name": "LayoutModel",
      "state": {}
     },
     "5650c8918012411e90e63bd79387b32e": {
      "model_module": "@jupyter-widgets/controls",
      "model_module_version": "2.0.0",
      "model_name": "SelectMultipleModel",
      "state": {
       "_options_labels": [
        "<18",
        "18-30",
        "30-40",
        "40-50",
        "50-65",
        ">65"
       ],
       "description": "Subgroups [1]",
       "index": [
        1,
        2
       ],
       "layout": "IPY_MODEL_7b02d5d3eac2459dbc5f3c24bce39374",
       "rows": 5,
       "style": "IPY_MODEL_e8cde3e1ac0a46759de1e7bfd5d33419"
      }
     },
     "5dfd23868dc448008e09ae50f42b9d2d": {
      "model_module": "@jupyter-widgets/base",
      "model_module_version": "2.0.0",
      "model_name": "LayoutModel",
      "state": {}
     },
     "73176bdd79f24e48a7069b76165a9e83": {
      "model_module": "@jupyter-widgets/controls",
      "model_module_version": "2.0.0",
      "model_name": "SelectMultipleModel",
      "state": {
       "_options_labels": [
        "<18",
        "18-30",
        "30-40",
        "40-50",
        "50-65",
        ">65"
       ],
       "description": "Subgroups [2]",
       "index": [
        1,
        2
       ],
       "layout": "IPY_MODEL_5476caa56d3c411e8e757b3ec244c853",
       "rows": 5,
       "style": "IPY_MODEL_bb999cf2a00943158696435b0eee8073"
      }
     },
     "7b02d5d3eac2459dbc5f3c24bce39374": {
      "model_module": "@jupyter-widgets/base",
      "model_module_version": "2.0.0",
      "model_name": "LayoutModel",
      "state": {}
     },
     "83b0e9b1892c48cfb0a67e02fddd3dee": {
      "model_module": "@jupyter-widgets/controls",
      "model_module_version": "2.0.0",
      "model_name": "DescriptionStyleModel",
      "state": {
       "description_width": ""
      }
     },
     "a2a79e3ab00544cfa5c388a235e16150": {
      "model_module": "@jupyter-widgets/base",
      "model_module_version": "2.0.0",
      "model_name": "LayoutModel",
      "state": {}
     },
     "bb999cf2a00943158696435b0eee8073": {
      "model_module": "@jupyter-widgets/controls",
      "model_module_version": "2.0.0",
      "model_name": "DescriptionStyleModel",
      "state": {
       "description_width": "initial"
      }
     },
     "cf4f645052574e95b543669b787f7461": {
      "model_module": "@jupyter-widgets/controls",
      "model_module_version": "2.0.0",
      "model_name": "DropdownModel",
      "state": {
       "_options_labels": [
        "Age_Group",
        "Ethnicity",
        "Payer",
        "Race",
        "Sex",
        "Gender"
       ],
       "description": "Cohort",
       "index": 0,
       "layout": "IPY_MODEL_e7ee1b41e44e4165916b781e96e82933",
       "style": "IPY_MODEL_4e6f9c3470ca43a1ae2a4c032b33f7a7"
      }
     },
     "e7ee1b41e44e4165916b781e96e82933": {
      "model_module": "@jupyter-widgets/base",
      "model_module_version": "2.0.0",
      "model_name": "LayoutModel",
      "state": {}
     },
     "e8cde3e1ac0a46759de1e7bfd5d33419": {
      "model_module": "@jupyter-widgets/controls",
      "model_module_version": "2.0.0",
      "model_name": "DescriptionStyleModel",
      "state": {
       "description_width": "initial"
      }
     }
    },
    "version_major": 2,
    "version_minor": 0
   }
  }
 },
 "nbformat": 4,
 "nbformat_minor": 5
}
