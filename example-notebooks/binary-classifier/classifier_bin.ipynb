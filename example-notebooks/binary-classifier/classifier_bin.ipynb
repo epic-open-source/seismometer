{
 "cells": [
  {
   "cell_type": "markdown",
   "id": "291685fe-6573-4cc9-a0a9-9843f8e2566b",
   "metadata": {
    "editable": true,
    "sg-id": "title",
    "slideshow": {
     "slide_type": ""
    },
    "tags": [
     "sg-text",
     "sg-contrib"
    ]
   },
   "source": [
    "# <span>Binary Classifier Notebook</span>"
   ]
  },
  {
   "cell_type": "markdown",
   "id": "d2a9af0d",
   "metadata": {},
   "source": [
    "## 30 Day Readmission Risk for Patients with Diabetes"
   ]
  },
  {
   "cell_type": "markdown",
   "id": "c0db91ab-0b51-4747-8092-0e67e0bb00ca",
   "metadata": {
    "editable": true,
    "sg-id": "title-detail",
    "slideshow": {
     "slide_type": ""
    },
    "tags": [
     "sg-text",
     "sg-contrib"
    ]
   },
   "source": [
    "The main objective of this notebook is to provide an example on how to utilize the seismometer package to analyze a binary classification predictive model.\n",
    "\n",
    "Here we consider a binary classification model trained on the [Diabetes Dataset](https://archive.ics.uci.edu/dataset/296/diabetes+130-us+hospitals+for+years+1999-2008). This model predicts the risk of readmission within 30 days for patients with diabetes. The model used is a simple LightGBM model and used only to provide an example on how the seismometer package could be set up/utilized.\n",
    "\n",
    "We have already prepared the data by performing basic preprocessing on the Diabetes Dataset. The prepared data is used in training the model and model performance analysis."
   ]
  },
  {
   "cell_type": "markdown",
   "id": "21706f75-9ac8-4463-b6c6-347daa63a1de",
   "metadata": {
    "editable": true,
    "slideshow": {
     "slide_type": ""
    },
    "tags": [
     "sg-text",
     "sg-detailed",
     "remove_input"
    ]
   },
   "source": [
    "## Usage\n",
    "Explore data from your organization's model including predictions, outcomes, interventions, and sensitive cohorts. Here we use the diabetes data and a LightGBM model.\n",
    "Use ```sm.show_info()``` to explore what is available."
   ]
  },
  {
   "cell_type": "code",
   "execution_count": null,
   "id": "9c232031",
   "metadata": {},
   "outputs": [],
   "source": [
    "# Download dataset\n",
    "import urllib.request\n",
    "DATASET_SOURCE = \"https://raw.githubusercontent.com/epic-open-source/seismometer-data/main\"\n",
    "_ = urllib.request.urlretrieve(f\"{DATASET_SOURCE}/diabetes/predictions.parquet\", \"data/predictions.parquet\")\n",
    "_ = urllib.request.urlretrieve(f\"{DATASET_SOURCE}/diabetes/events.parquet\", \"data/events.parquet\")\n",
    "_ = urllib.request.urlretrieve(f\"{DATASET_SOURCE}/diabetes/data_dictionary.yml\", \"dictionary.yml\")"
   ]
  },
  {
   "cell_type": "code",
   "execution_count": null,
   "id": "41436410-c885-433a-bafe-831d90684096",
   "metadata": {
    "editable": true,
    "slideshow": {
     "slide_type": ""
    },
    "tags": [
     "remove_input",
     "remove_output"
    ]
   },
   "outputs": [],
   "source": [
    "%matplotlib inline\n",
    "import seismometer as sm\n",
    "sm.run_startup(config_path='.')"
   ]
  },
  {
   "cell_type": "code",
   "execution_count": null,
   "id": "ff21cc59-2e68-4084-bf79-eafc738fe868",
   "metadata": {
    "editable": true,
    "slideshow": {
     "slide_type": ""
    },
    "tags": [
     "remove_input",
     "sg-text"
    ]
   },
   "outputs": [],
   "source": [
    "sm.show_info(plot_help=True)"
   ]
  },
  {
   "cell_type": "markdown",
   "id": "fa188b0d-0154-408b-a90f-01ad52e067b6",
   "metadata": {
    "editable": true,
    "slideshow": {
     "slide_type": ""
    },
    "tags": [
     "sg-text"
    ]
   },
   "source": [
    "## Overview"
   ]
  },
  {
   "cell_type": "markdown",
   "id": "abf22184-3259-47fd-89b5-b0e7c2c431c0",
   "metadata": {
    "editable": true,
    "slideshow": {
     "slide_type": ""
    },
    "tags": [
     "sg-text"
    ]
   },
   "source": [
    "#### ℹ Info"
   ]
  },
  {
   "cell_type": "markdown",
   "id": "1b1e7707-db5f-4698-b594-862dc312bd08",
   "metadata": {
    "editable": true,
    "sg-id": "overview-summary",
    "slideshow": {
     "slide_type": ""
    },
    "tags": [
     "sg-text",
     "sg-contrib"
    ]
   },
   "source": [
    "We are using a basic LightGBM model trained on [Diabetes Dataset](https://archive.ics.uci.edu/dataset/296/diabetes+130-us+hospitals+for+years+1999-2008) to predict if a diabetes patient will be readmitted in the 30 days time window after discharge. The first step is to provide the required information which includes configuration files, predictions data, and events data (interventions, outcomes, or target events). Datasets should be stored in the _parquet_ format. \n",
    "\n",
    "The _seismometer_ package pulls configuration from the _config.yml_ file. This file stores:  \n",
    "<ol>\n",
    "<li>the filepath to the predictions dataframe in parquet format,</li>\n",
    "<li>the filepath to the events dataframe in parquet format,</li>\n",
    "<li>the filepath to usage configuration that describes how to interpret data during run,</li>\n",
    "<li>the filepath to events definitions, that specify events,</li>\n",
    "<li>the filepath to predictions definitions, that specify cohorts, scores, and features to consider.</li>\n",
    "</ol>\n",
    "\n",
    "We have created: \n",
    "<ol>\n",
    "<li>the predictions dataset, where each row is a patient/encounter and columns are input features, a patient identifier, the time of the prediction, and a score column corresponding to the output of the trained LightGBM model,</li>\n",
    "<li>the events dataset, where each row corresponds to a target, intervention, or outcome. Here we have only defined one event for the model: the target (<i>y</i>) of the train. The dataset also includes the patient identifier, the time of the event, the type of the event (relevant when there are multiple events) and the events value (in this example, a 1 indicates a readmission occurred within 30 days)</li>\n",
    "<li>through data_usage node in usage_config.yml, we have specified:\n",
    "<ol>\n",
    "<li>age, race and gender as the analysis cohort attributes,</li>\n",
    "<li>the LightGBM model as the primary output (score),</li>\n",
    "<li>30 days readmission (<i>readmitted</i> column) event as the primary target,</li>\n",
    "<li>admission_type_id, num_medications and num_procedures as the only extra features to consider in feature analysis.</li>\n",
    "</ol>\n",
    "</li>\n",
    "</ol>"
   ]
  },
  {
   "cell_type": "markdown",
   "id": "5d8caf69-396c-451c-be0b-bd5d14e360d8",
   "metadata": {
    "editable": true,
    "slideshow": {
     "slide_type": ""
    },
    "tags": [
     "sg-text",
     "sg-detailed",
     "remove_input"
    ]
   },
   "source": [
    "**Tips:** \n",
    "\n",
    "- Run the cell below to create an `ipywidget` selector. Selectors are linked across notebook cells and will dynamically update visualizations and reports throughout the notebook. You can also call `sm.cohort_selector()` in a new notebook cell to create the same selector elsewhere.  \n",
    "- Use the selector to stratify certain plots and reports across cohorts. By default the `age` cohort is selected, and _all_ age groups are selected."
   ]
  },
  {
   "cell_type": "markdown",
   "id": "ef425af7-42af-4390-a49c-7e72da975900",
   "metadata": {
    "editable": true,
    "slideshow": {
     "slide_type": ""
    },
    "tags": [
     "sg-text"
    ]
   },
   "source": [
    "#### Selection"
   ]
  },
  {
   "cell_type": "markdown",
   "id": "6e9cb8bf-b521-4187-ad2b-e9f5c0d7fe1f",
   "metadata": {
    "editable": true,
    "sg-id": "overview-selection",
    "slideshow": {
     "slide_type": ""
    },
    "tags": [
     "sg-text",
     "sg-contrib",
     "sg-detailed"
    ]
   },
   "source": [
    "You can specify the sensitive cohorts for a more detailed study in usage_config.yml via the _Cohorts_ keyword. As mentioned above, we consider three cohort attributes:\n",
    "<ol>\n",
    "<li>age: the age group of the patient. Age groups are [0,10), [10,20), [20,50), [50,70) and 70+.</li>\n",
    "<li>race: the self-reported race of the patient. Race cohorts are 'Caucasian', 'AfricanAmerican', 'Hispanic', 'Asian', 'Other', 'Unknown'.</li>\n",
    "<li>gender: the self-reported gender of the patient. Gender cohorts are 'Female', 'Male'.</li>\n",
    "</ol>"
   ]
  },
  {
   "cell_type": "code",
   "execution_count": null,
   "id": "f4c9cdf2-bb4f-40a1-b688-7c33dbdba217",
   "metadata": {
    "editable": true,
    "slideshow": {
     "slide_type": ""
    },
    "tags": [
     "remove_input",
     "remove_output"
    ]
   },
   "outputs": [],
   "source": [
    "sm.cohort_selector()"
   ]
  },
  {
   "cell_type": "markdown",
   "id": "db4ffe94-2fb0-4386-a253-ba2485fab231",
   "metadata": {
    "editable": true,
    "slideshow": {
     "slide_type": ""
    },
    "tags": [
     "sg-text"
    ]
   },
   "source": [
    "## Feature Monitor"
   ]
  },
  {
   "cell_type": "markdown",
   "id": "91d79a5d-27a6-4928-af69-d071d084b82f",
   "metadata": {
    "editable": true,
    "slideshow": {
     "slide_type": ""
    },
    "tags": [
     "sg-text"
    ]
   },
   "source": [
    "#### ℹ Info"
   ]
  },
  {
   "cell_type": "markdown",
   "id": "2f7f2de9-dc8d-470f-a78c-4ff3716553ab",
   "metadata": {
    "editable": true,
    "slideshow": {
     "slide_type": ""
    },
    "tags": [
     "sg-text",
     "sg-detailed"
    ]
   },
   "source": [
    "**Tips**: \n",
    "\n",
    "- This section provides insight into model inputs, demographics, and the set of interventions and outcomes. During early stages this will help validate configuration; afterwards, it will assist with detecting feature and population drift. Read through the alerts identified for your data, dig deeper using the feature, demographic, and event summaries, or by comparing across targets or demographics.\n",
    "- **Other Warnings:** The variable profiles below will identify any concerning trends in feature distributions. Depending on the model, you may want to do additional configuration to silence these alerts until certain thresholds are met. \n",
    "- Run the `sm.*()` functions in the cells below to get a report for the corresponding dataset."
   ]
  },
  {
   "cell_type": "markdown",
   "id": "09454223-a73b-482f-86eb-2fc6bf914630",
   "metadata": {
    "editable": true,
    "slideshow": {
     "slide_type": ""
    },
    "tags": [
     "sg-text"
    ]
   },
   "source": [
    "#### Reports"
   ]
  },
  {
   "cell_type": "markdown",
   "id": "87065d8f-05fb-4f6b-a5f6-1651e9150b64",
   "metadata": {
    "editable": true,
    "slideshow": {
     "slide_type": ""
    },
    "tags": [
     "sg-text"
    ]
   },
   "source": [
    "##### Feature Alerts\n",
    "View automatically identified data quality issues for the model inputs in your dataset"
   ]
  },
  {
   "cell_type": "code",
   "execution_count": null,
   "id": "f3f4a484-4c0a-44d5-b9bf-39976450108d",
   "metadata": {
    "editable": true,
    "slideshow": {
     "slide_type": ""
    },
    "tags": [
     "remove_input",
     "remove_output"
    ]
   },
   "outputs": [],
   "source": [
    "sm.feature_alerts()"
   ]
  },
  {
   "cell_type": "markdown",
   "id": "ee8ca97f",
   "metadata": {
    "editable": true,
    "slideshow": {
     "slide_type": ""
    },
    "tags": [
     "sg-text"
    ]
   },
   "source": [
    "##### Feature Summary Statistics and Plots\n",
    "View the summary statistics and distributions for the model inputs in your dataset. "
   ]
  },
  {
   "cell_type": "code",
   "execution_count": null,
   "id": "a295ac9b-7350-4d0f-9ee2-40c83f10a211",
   "metadata": {
    "editable": true,
    "slideshow": {
     "slide_type": ""
    },
    "tags": [
     "remove_input"
    ]
   },
   "outputs": [],
   "source": [
    "sm.feature_summary()"
   ]
  },
  {
   "cell_type": "markdown",
   "id": "82aa5550",
   "metadata": {
    "editable": true,
    "slideshow": {
     "slide_type": ""
    },
    "tags": [
     "sg-text"
    ]
   },
   "source": [
    "##### Summarize Features by Cohort Subgroup\n",
    "Run `sm.cohort_comparison_report()`, select a cohort and two distinct sets of subgroups, then click \"Generate Report\" to get link to a breakdown of your features stratified by the different subgroups. "
   ]
  },
  {
   "cell_type": "code",
   "execution_count": null,
   "id": "03c5105c",
   "metadata": {
    "editable": true,
    "slideshow": {
     "slide_type": ""
    },
    "tags": [
     "remove_input",
     "remove_output"
    ]
   },
   "outputs": [],
   "source": [
    "sm.cohort_comparison_report()"
   ]
  },
  {
   "cell_type": "markdown",
   "id": "8e0692b0",
   "metadata": {
    "editable": true,
    "slideshow": {
     "slide_type": ""
    },
    "tags": [
     "sg-text",
     "sg-detailed"
    ]
   },
   "source": [
    "##### Summarize Features by Target\n",
    "Run `sm.target_feature_summary()` to get a link to a breakdown of your features stratified by the different target values. Run `sm.target_feature_summary(inline=True)` to show the report inline."
   ]
  },
  {
   "cell_type": "markdown",
   "id": "bad4fc3a-0dfa-44e2-b049-85cbbff6265e",
   "metadata": {
    "editable": true,
    "sg-id": "feature-target",
    "slideshow": {
     "slide_type": ""
    },
    "tags": [
     "sg-text",
     "sg-contrib"
    ]
   },
   "source": [
    "In this example, we have a single target of interest: the 'readmitted' column from the original dataset."
   ]
  },
  {
   "cell_type": "code",
   "execution_count": null,
   "id": "3b2a71f2-31dd-4c28-8172-c66182a6952a",
   "metadata": {
    "editable": true,
    "slideshow": {
     "slide_type": ""
    },
    "tags": [
     "remove_input"
    ]
   },
   "outputs": [],
   "source": [
    "sm.target_feature_summary()"
   ]
  },
  {
   "cell_type": "markdown",
   "id": "84a2471f-ad03-4c8f-a9cc-307943c27f10",
   "metadata": {
    "editable": true,
    "slideshow": {
     "slide_type": ""
    },
    "tags": [
     "sg-text"
    ]
   },
   "source": [
    "## Model Performance"
   ]
  },
  {
   "cell_type": "markdown",
   "id": "570d9135-052c-424c-b492-3b1de4e6b809",
   "metadata": {
    "editable": true,
    "slideshow": {
     "slide_type": ""
    },
    "tags": [
     "sg-text"
    ]
   },
   "source": [
    "#### Overall"
   ]
  },
  {
   "cell_type": "markdown",
   "id": "3f772722-ea0c-4306-80c9-beb46f47c812",
   "metadata": {
    "editable": true,
    "slideshow": {
     "slide_type": ""
    },
    "tags": [
     "sg-text"
    ]
   },
   "source": [
    "####  ℹ Info"
   ]
  },
  {
   "cell_type": "markdown",
   "id": "278e362a-38d1-4f23-bfed-fd17f492dcac",
   "metadata": {
    "editable": true,
    "sg-id": "performance-overall",
    "slideshow": {
     "slide_type": ""
    },
    "tags": [
     "sg-text"
    ]
   },
   "source": [
    "**Model Performance Plots**\n",
    "\n",
    "1. (Top-left) The ROC curve, or receiver operating characteristic curve demonstrates a model's performance across all thresholds. The curve shows the sensitivity and specificity across all possible thresholds for the model. \n",
    "    - This plot can help you assess both in aggregate and at specific thresholds how often the model correctly identifies positive cases and negative cases. The AUROC or C-stat is the area under the ROC curve is a single measure of how well the model performs across thresholds.\n",
    "2. (Top-middle) This curve plots the sensitivity and flag rate across all possible thresholds for the model. \n",
    "    - This plot can help you determine how frequently your model would trigger workflow interventions at different thresholds, and how many of those interventions would be taken for true positive cases. The highlighted area above the curve indicates how many true positives would be missed at this threshold.\n",
    "3. (Top-right) The calibration curve is a measure of how reliable a model is in its predictions at a given threshold. \n",
    "    - This plots the observed rate (what proportion of cases at that threshold are true positives) against the model's predicted probability.\n",
    "    - Points above the line `y=x` line indicate that a model is *overconfident* in its predictions (i.e., identifying more positive cases than exist), and points below the `y=x` line indicate that a model is *underconfident* in its predictions (i.e. identifying fewer positive cases than exist).\n",
    "4. (Bottom-left) The PR curve, or precision-recall curve, shows the tradeoff between precision and recall for different threshold. \n",
    "    - The curve shows precision and recall across all possible thresholds for the model. This plot can help you assess the tradeoffs between identifying more positive cases, and correctly identifying positive cases. \n",
    "5. (Bottom-middle) This plot shows the sensitivity, specificity, and PPV across all possible thresholds for a model. \n",
    "    - This plot is useful for identifying thresholds where your model has high enough specificity, sensitivity, and PPV for your intended workflows.\n",
    "6. (Bottom-right) This plot shows the predicted probabilities for entities in the dataset stratified by whether or not they met the target criteria. \n",
    "    - This plot can help you identify thresholds where your model will correctly identify enough of the true positives without identifying too many of the true negatives."
   ]
  },
  {
   "cell_type": "markdown",
   "id": "1a40c22c-96eb-4b91-bddb-03ffb502181c",
   "metadata": {
    "editable": true,
    "slideshow": {
     "slide_type": ""
    },
    "tags": [
     "sg-text",
     "sg-detailed",
     "remove_input"
    ]
   },
   "source": [
    "**Tips:**\n",
    "\n",
    " - Thresholds configured for the model are highlighted on the graphs.\n",
    " - Use `sm.model_evaluation()` to get model evaluation plots for your model at the observation level.\n",
    " - Use `sm.model_evaluation(per_context_id=True)` to get model evaluation plots for your model at the encounter level."
   ]
  },
  {
   "cell_type": "markdown",
   "id": "7f116273-e24f-4dba-8e51-aad9f63cff63",
   "metadata": {
    "editable": true,
    "slideshow": {
     "slide_type": ""
    },
    "tags": [
     "sg-text"
    ]
   },
   "source": [
    "#### Visuals"
   ]
  },
  {
   "cell_type": "code",
   "execution_count": null,
   "id": "95145143",
   "metadata": {
    "editable": true,
    "slideshow": {
     "slide_type": ""
    },
    "tags": [
     "remove_input"
    ]
   },
   "outputs": [],
   "source": [
    "sm.model_evaluation()"
   ]
  },
  {
   "cell_type": "code",
   "execution_count": null,
   "id": "d5b5c019",
   "metadata": {},
   "outputs": [],
   "source": [
    "sm.model_evaluation(per_context_id=True)"
   ]
  },
  {
   "cell_type": "markdown",
   "id": "76384aa0",
   "metadata": {},
   "source": [
    "## Fairness Audit\n",
    "It is important to note that decisions on which fairness metrics are applicable to a model should be made with deep knowledge of how the model is used and then interpreted carefully.  Even when a metric is flagged as failing, there may be context that explains and even predicts the difference, so generally warrants some attention and not necessarily exposes a problem.\n",
    "\n",
    "It is mathematically impossible to ensure parity across many definitions simultaneously, so focus on a predetermined set and an awareness of the others is an observed strategy.  \n",
    "Like many concepts, a single parity concept can have several different names; notable parity of true positive rate is equal opportunity, parity of false positive rate is predictive equality, and parity of predictive prevalence is demographic parity.\n",
    "\n",
    "An [Aequitas audit](https://dssg.github.io/aequitas/) gives an overview of parity across all defined groups for each cohort attribute.  By default, the majority group is the baseline and a statistic for all observations in the other groups is compared. A fairness threshold such as 125% is then used to classify the ratio of each group to the reference.  If any group performs differently, above (125% in our example) or below (80%) then it is considered a failure for that cohort+metric.  \n",
    "\n",
    "The visualization is a table showing the overall pass/fail, an ordered list of circles representing the groups, and a bar representing the percentage of the population data in reference.  Note that comparison across columns is not always exact due to potential differences in the included observations from missing information. Hovering over a bar or dot will give details on the group and metric.\n"
   ]
  },
  {
   "cell_type": "code",
   "execution_count": null,
   "id": "ea813a54",
   "metadata": {},
   "outputs": [],
   "source": [
    "sm.fairness_audit(metric_list=['tpr', 'fpr', 'pprev', 'precision'], fairness_threshold=1.25)"
   ]
  },
  {
   "cell_type": "markdown",
   "id": "36a0c635-c9a4-4cd8-9d7a-b2f86ea37a80",
   "metadata": {
    "editable": true,
    "slideshow": {
     "slide_type": ""
    },
    "tags": [
     "sg-text"
    ]
   },
   "source": [
    "## Cohort Analysis "
   ]
  },
  {
   "cell_type": "markdown",
   "id": "89924d36-f26e-4def-b642-34f06df53df9",
   "metadata": {
    "editable": true,
    "slideshow": {
     "slide_type": ""
    },
    "tags": [
     "sg-text"
    ]
   },
   "source": [
    "#### ℹ Info"
   ]
  },
  {
   "cell_type": "markdown",
   "id": "e90f416d-d1e7-4bd0-baea-ef831b2f64de",
   "metadata": {
    "editable": true,
    "slideshow": {
     "slide_type": ""
    },
    "tags": [
     "sg-text"
    ]
   },
   "source": [
    "**Model Performance Plots**:\n",
    "This section has general distribution plots for cohorts, crosstabs, and the `sm.model_evaluation()` performance plots stratified by cohort.\n",
    "\n",
    "1. (Top-left) The ROC curve, or receiver operating characteristic curve demonstrates a model's performance across all thresholds. The curve shows the sensitivity and specificity across all possible thresholds for the model. \n",
    "    - This plot can help you assess both in aggregate and at specific thresholds how often the model correctly identifies positive cases and negative cases. The AUROC or C-stat is the area under the ROC curve is a single measure of how well the model performs across thresholds.\n",
    "2. (Top-middle) This curve plots the sensitivity and flag rate across all possible thresholds for the model. \n",
    "    - This plot can help you determine how frequently your model would trigger workflow interventions at different thresholds, and how many of those interventions would be taken for true positive cases. The highlighted area above the curve indicates how many true positives would be missed at this threshold.\n",
    "3. (Top-right) The calibration curve is a measure of how reliable a model is in its predictions at a given threshold. \n",
    "    - This plots the observed rate (what proportion of cases at that threshold are true positives) against the model's predicted probability.\n",
    "    - Points above the line `y=x` line indicate that a model is *overconfident* in its predictions (i.e., identifying more positive cases than exist), and points below the `y=x` line indicate that a model is *underconfident* in its predictions (i.e. identifying fewer positive cases than exist).\n",
    "4. (Bottom-left) The PR curve, or precision-recall curve, shows the tradeoff between precision and recall for different threshold. \n",
    "    - The curve shows precision and recall across all possible thresholds for the model. This plot can help you assess the tradeoffs between identifying more positive cases, and correctly identifying positive cases. \n",
    "5. (Bottom-middle) This plot shows the sensitivity, specificity, and PPV across all possible thresholds for a model. \n",
    "    - This plot is useful for identifying thresholds where your model has high enough specificity, sensitivity, and PPV for your intended workflows.\n",
    "6. (Bottom-right) This plot shows the predicted probabilities for entities in the dataset stratified by whether or not they met the target criteria. \n",
    "    - This plot can help you identify thresholds where your model will correctly identify enough of the true positives without identifying too many of the true negatives."
   ]
  },
  {
   "cell_type": "markdown",
   "id": "7be95f01-f564-4b42-9d37-28d4a36c51c3",
   "metadata": {
    "editable": true,
    "slideshow": {
     "slide_type": ""
    },
    "tags": [
     "sg-text",
     "sg-detailed",
     "remove_input"
    ]
   },
   "source": [
    "**Tips:**\n",
    "\n",
    " - Thresholds configured for the model are highlighted on the graphs.\n",
    " - Use `sm.cohort_evaluation()` to get cohort evaluation plots for your cohort at the observation level.\n",
    " - Use `sm.cohort_evaluation(per_context_id=True)` to get cohort evaluation plots for your cohort at the encounter level."
   ]
  },
  {
   "cell_type": "markdown",
   "id": "3e6b1d43-77f0-42c8-b8d6-92e92f92dfd6",
   "metadata": {
    "editable": true,
    "slideshow": {
     "slide_type": ""
    },
    "tags": [
     "sg-text"
    ]
   },
   "source": [
    "#### Visuals"
   ]
  },
  {
   "cell_type": "code",
   "execution_count": null,
   "id": "2f6e7041-5091-4c49-becf-25dd54f2b6b5",
   "metadata": {
    "editable": true,
    "slideshow": {
     "slide_type": ""
    },
    "tags": [
     "remove_input",
     "remove_output"
    ]
   },
   "outputs": [],
   "source": [
    "sm.show_cohort_summaries()"
   ]
  },
  {
   "cell_type": "code",
   "execution_count": null,
   "id": "7671bb74",
   "metadata": {},
   "outputs": [],
   "source": [
    "sm.cohort_selector()"
   ]
  },
  {
   "cell_type": "code",
   "execution_count": null,
   "id": "ebbd880f-8f47-4c0b-a40d-45150df567f9",
   "metadata": {
    "editable": true,
    "slideshow": {
     "slide_type": ""
    },
    "tags": [
     "remove_input"
    ]
   },
   "outputs": [],
   "source": [
    "sm.cohort_evaluation()"
   ]
  },
  {
   "cell_type": "code",
   "execution_count": null,
   "id": "6c9e504a",
   "metadata": {},
   "outputs": [],
   "source": [
    "sm.cohort_evaluation(per_context_id=True)"
   ]
  },
  {
   "cell_type": "markdown",
   "id": "ffdf61bf-646e-4823-ba11-509a1dcbab92",
   "metadata": {
    "editable": true,
    "slideshow": {
     "slide_type": ""
    },
    "tags": [
     "sg-text"
    ]
   },
   "source": [
    "## Lead-time Analysis "
   ]
  },
  {
   "cell_type": "markdown",
   "id": "b2b70ae9-5c5c-4b2b-be1c-56b7908740c9",
   "metadata": {
    "editable": true,
    "slideshow": {
     "slide_type": ""
    },
    "tags": [
     "sg-text"
    ]
   },
   "source": [
    "#### ℹ Info"
   ]
  },
  {
   "cell_type": "markdown",
   "id": "5c318cb5-1c0e-4203-80da-a4ba6e60ef3b",
   "metadata": {
    "editable": true,
    "slideshow": {
     "slide_type": ""
    },
    "tags": [
     "sg-text",
     "sg-detailed"
    ]
   },
   "source": [
    "Lead-time analysis is focused on revealing the amount of time that a high prediction gives before an event of interest.  These analyses implicitly restrict data to the positive cohort, as that is expected to be the place time the event occurs.\n",
    "The visualization uses standard box-and-whisker plots where each quartile of the subpopulation has a vertical line, the inner box representing the inner quartiles with mean.   When the cohorts overlap significantly, this indicates the model is providing equal opportunity for action to be taken based on the scores across the cohort groups."
   ]
  },
  {
   "cell_type": "markdown",
   "id": "c6f13813-cb6a-4b8f-9a9c-a4e4852d7a2b",
   "metadata": {
    "editable": true,
    "slideshow": {
     "slide_type": ""
    },
    "tags": [
     "sg-text"
    ]
   },
   "source": [
    "#### Visuals"
   ]
  },
  {
   "cell_type": "code",
   "execution_count": null,
   "id": "2c1a0e7e-2624-490e-9b14-7cd8f6a0a7c8",
   "metadata": {
    "editable": true,
    "slideshow": {
     "slide_type": ""
    },
    "tags": [
     "remove_input"
    ]
   },
   "outputs": [],
   "source": [
    "lead=sm.plot_leadtime_enc()"
   ]
  },
  {
   "cell_type": "markdown",
   "id": "7f4dc736",
   "metadata": {},
   "source": [
    "## Add Your Own Analysis\n",
    "\n",
    "You can also incorporate other packages to create your own analyses. Here, we use the seaborn package to create a heatmap of average score across different age groups and procedure counts.\n",
    "\n",
    "`sm.Seismogram().dataframe` is a pandas DataFrame with merged predictions and events data."
   ]
  },
  {
   "cell_type": "code",
   "execution_count": null,
   "id": "cc242d8e-ec19-4960-bf57-7734b928f7f9",
   "metadata": {
    "editable": true,
    "slideshow": {
     "slide_type": ""
    },
    "tags": [
     "remove_input"
    ]
   },
   "outputs": [],
   "source": [
    "import seaborn as sns \n",
    "import matplotlib.pyplot as plt \n",
    "import pandas as pd\n",
    "\n",
    "sg = sm.Seismogram()\n",
    "heat = sg.dataframe[[\"num_procedures\",\"age\",\"LGBM_score\"]]\n",
    "heat = pd.DataFrame(heat.groupby([\"num_procedures\",\"age\"],observed=False)[\"LGBM_score\"].agg('mean')).reset_index()\n",
    "heat[\"num_procedures\"] = heat[\"num_procedures\"].astype('category').cat.reorder_categories([6,5,4,3,2,1,0])\n",
    "hm = sns.heatmap(data = heat.pivot(index=\"num_procedures\", columns=\"age\", values=\"LGBM_score\"))\n",
    "  \n",
    "# displaying the plotted heatmap \n",
    "plt.show()"
   ]
  }
 ],
 "metadata": {
  "kernelspec": {
   "display_name": "Python 3 (ipykernel)",
   "language": "python",
   "name": "python3"
  },
  "language_info": {
   "codemirror_mode": {
    "name": "ipython",
    "version": 3
   },
   "file_extension": ".py",
   "mimetype": "text/x-python",
   "name": "python",
   "nbconvert_exporter": "python",
   "pygments_lexer": "ipython3",
   "version": "3.11.9"
  },
  "toc-autonumbering": false,
  "toc-showcode": false,
  "toc-showmarkdowntxt": false,
  "toc-showtags": false,
  "widgets": {
   "application/vnd.jupyter.widget-state+json": {
    "state": {
     "20bb458095be4735b5474711c1f02ccc": {
      "model_module": "@jupyter-widgets/controls",
      "model_module_version": "2.0.0",
      "model_name": "DropdownModel",
      "state": {
       "_options_labels": [
        "Age_Group",
        "Ethnicity",
        "Payer",
        "Race",
        "Sex",
        "Gender"
       ],
       "description": "Cohort",
       "index": 0,
       "layout": "IPY_MODEL_5dfd23868dc448008e09ae50f42b9d2d",
       "style": "IPY_MODEL_83b0e9b1892c48cfb0a67e02fddd3dee"
      }
     },
     "41e1f78c7c8a4bdfb34814c59679f033": {
      "model_module": "@jupyter-widgets/controls",
      "model_module_version": "2.0.0",
      "model_name": "DescriptionStyleModel",
      "state": {
       "description_width": ""
      }
     },
     "49922f6515544a63bb22aeaa9824380b": {
      "model_module": "@jupyter-widgets/controls",
      "model_module_version": "2.0.0",
      "model_name": "SelectMultipleModel",
      "state": {
       "_options_labels": [
        "<18",
        "18-30",
        "30-40",
        "40-50",
        "50-65",
        ">65"
       ],
       "description": "Subgroups",
       "index": [
        1,
        2
       ],
       "layout": "IPY_MODEL_a2a79e3ab00544cfa5c388a235e16150",
       "rows": 5,
       "style": "IPY_MODEL_41e1f78c7c8a4bdfb34814c59679f033"
      }
     },
     "4e6f9c3470ca43a1ae2a4c032b33f7a7": {
      "model_module": "@jupyter-widgets/controls",
      "model_module_version": "2.0.0",
      "model_name": "DescriptionStyleModel",
      "state": {
       "description_width": ""
      }
     },
     "5476caa56d3c411e8e757b3ec244c853": {
      "model_module": "@jupyter-widgets/base",
      "model_module_version": "2.0.0",
      "model_name": "LayoutModel",
      "state": {}
     },
     "5650c8918012411e90e63bd79387b32e": {
      "model_module": "@jupyter-widgets/controls",
      "model_module_version": "2.0.0",
      "model_name": "SelectMultipleModel",
      "state": {
       "_options_labels": [
        "<18",
        "18-30",
        "30-40",
        "40-50",
        "50-65",
        ">65"
       ],
       "description": "Subgroups [1]",
       "index": [
        1,
        2
       ],
       "layout": "IPY_MODEL_7b02d5d3eac2459dbc5f3c24bce39374",
       "rows": 5,
       "style": "IPY_MODEL_e8cde3e1ac0a46759de1e7bfd5d33419"
      }
     },
     "5dfd23868dc448008e09ae50f42b9d2d": {
      "model_module": "@jupyter-widgets/base",
      "model_module_version": "2.0.0",
      "model_name": "LayoutModel",
      "state": {}
     },
     "73176bdd79f24e48a7069b76165a9e83": {
      "model_module": "@jupyter-widgets/controls",
      "model_module_version": "2.0.0",
      "model_name": "SelectMultipleModel",
      "state": {
       "_options_labels": [
        "<18",
        "18-30",
        "30-40",
        "40-50",
        "50-65",
        ">65"
       ],
       "description": "Subgroups [2]",
       "index": [
        1,
        2
       ],
       "layout": "IPY_MODEL_5476caa56d3c411e8e757b3ec244c853",
       "rows": 5,
       "style": "IPY_MODEL_bb999cf2a00943158696435b0eee8073"
      }
     },
     "7b02d5d3eac2459dbc5f3c24bce39374": {
      "model_module": "@jupyter-widgets/base",
      "model_module_version": "2.0.0",
      "model_name": "LayoutModel",
      "state": {}
     },
     "83b0e9b1892c48cfb0a67e02fddd3dee": {
      "model_module": "@jupyter-widgets/controls",
      "model_module_version": "2.0.0",
      "model_name": "DescriptionStyleModel",
      "state": {
       "description_width": ""
      }
     },
     "a2a79e3ab00544cfa5c388a235e16150": {
      "model_module": "@jupyter-widgets/base",
      "model_module_version": "2.0.0",
      "model_name": "LayoutModel",
      "state": {}
     },
     "bb999cf2a00943158696435b0eee8073": {
      "model_module": "@jupyter-widgets/controls",
      "model_module_version": "2.0.0",
      "model_name": "DescriptionStyleModel",
      "state": {
       "description_width": "initial"
      }
     },
     "cf4f645052574e95b543669b787f7461": {
      "model_module": "@jupyter-widgets/controls",
      "model_module_version": "2.0.0",
      "model_name": "DropdownModel",
      "state": {
       "_options_labels": [
        "Age_Group",
        "Ethnicity",
        "Payer",
        "Race",
        "Sex",
        "Gender"
       ],
       "description": "Cohort",
       "index": 0,
       "layout": "IPY_MODEL_e7ee1b41e44e4165916b781e96e82933",
       "style": "IPY_MODEL_4e6f9c3470ca43a1ae2a4c032b33f7a7"
      }
     },
     "e7ee1b41e44e4165916b781e96e82933": {
      "model_module": "@jupyter-widgets/base",
      "model_module_version": "2.0.0",
      "model_name": "LayoutModel",
      "state": {}
     },
     "e8cde3e1ac0a46759de1e7bfd5d33419": {
      "model_module": "@jupyter-widgets/controls",
      "model_module_version": "2.0.0",
      "model_name": "DescriptionStyleModel",
      "state": {
       "description_width": "initial"
      }
     }
    },
    "version_major": 2,
    "version_minor": 0
   }
  }
 },
 "nbformat": 4,
 "nbformat_minor": 5
}
