{
 "cells": [
  {
   "cell_type": "code",
   "execution_count": 1,
   "metadata": {},
   "outputs": [],
   "source": [
    "import seismometer as sm\n",
    "sm.run_startup(config_path='.')"
   ]
  },
  {
   "cell_type": "code",
   "execution_count": 2,
   "metadata": {},
   "outputs": [
    {
     "data": {
      "text/html": [
       "<style>\n",
       "    td, th {\n",
       "        text-align: left !important;\n",
       "    }\n",
       "</style>\n",
       "<div style=\"width: 100%; max-width: 1200px;\">\n",
       "    <h3>Summary</h3>\n",
       "    The preloaded data covers 1000 predictions over 1000 entities from the dates 2024-10-01 to 2024-10-31.\n",
       "    <table>\n",
       "        <thead>\n",
       "            <tr>\n",
       "            <th>Dataframe Name</th>\n",
       "            <th>Rows</th>\n",
       "            <th>Columns</th>\n",
       "            <th>Content</th>\n",
       "            </tr>\n",
       "        </thead>\n",
       "        <tr>\n",
       "        <td><code>predictions</code></td>\n",
       "        <td>1000</td>\n",
       "        <td>~5</td>\n",
       "        <td>Scores, features, configured demographics, and merged events for each prediction</td>\n",
       "        </tr>\n",
       "    </table>\n",
       "</div>"
      ],
      "text/plain": [
       "<IPython.core.display.HTML object>"
      ]
     },
     "execution_count": 2,
     "metadata": {},
     "output_type": "execute_result"
    }
   ],
   "source": [
    "sm.show_info()"
   ]
  },
  {
   "cell_type": "markdown",
   "metadata": {},
   "source": [
    "# write up\n",
    "* config updates\n",
    "  * usage - metrics section + config; group key; count vs prevalence\n",
    "  * data dictionary - categorical values display name\n",
    "* analysis\n",
    "  * ordinal categorical graph - include N/A handling in usage\n",
    "* explore controls\n",
    "  * group key"
   ]
  },
  {
   "cell_type": "markdown",
   "metadata": {},
   "source": [
    "todos -\n",
    "attach kwargs to super"
   ]
  },
  {
   "cell_type": "code",
   "execution_count": 3,
   "metadata": {},
   "outputs": [],
   "source": [
    "from seismometer.controls.explore import ExplorationSubpopulationWidget\n",
    "from seismometer.plot.mpl.decorators import render_as_svg\n",
    "import matplotlib.pyplot as plt\n",
    "import plot_likert\n",
    "from typing import Any, Callable, Optional\n",
    "\n",
    "mkwargs = {}\n",
    "\n",
    "class OrdinalCategoricalWidget(ExplorationSubpopulationWidget):\n",
    "    \"\"\"\n",
    "    A widget for exploring the model performance of a cohort.\n",
    "    \"\"\"\n",
    "\n",
    "    def __init__(\n",
    "        self,\n",
    "        **kwargs\n",
    "    ):\n",
    "        \"\"\"\n",
    "        Exploration widget for model evaluation, showing a plot for a given target,\n",
    "        score, threshold, and cohort selection.\n",
    "\n",
    "        Parameters\n",
    "        ----------\n",
    "        title : str\n",
    "            title of the control\n",
    "        plot_function : Callable[..., Any]\n",
    "            Expected to have the following signature:\n",
    "\n",
    "            .. code:: python\n",
    "\n",
    "                def plot_function(\n",
    "                    cohorts: dict[str,tuple[Any]]) -> Any\n",
    "        \"\"\"\n",
    "        super().__init__(\n",
    "            title=\"Rubric Metrics\",\n",
    "            plot_function=ordinal_plot,\n",
    "            **kwargs\n",
    "        )\n",
    "\n",
    "@render_as_svg\n",
    "def ordinal_plot(\n",
    "            cohort_dict: str) -> plt.Figure:\n",
    "    from seismometer.seismogram import Seismogram\n",
    "\n",
    "    from seismometer.data.filter import filter_rule_from_cohort_dictionary\n",
    "    from seismometer.data import pandas_helpers as pdh\n",
    "\n",
    "    sg = Seismogram()\n",
    "    cfg = sg.config\n",
    "\n",
    "    '''\n",
    "    if merge_strategy not in get_args(MergeStrategies):\n",
    "        raise ValueError(\n",
    "            f\"Invalid merge strategy {merge_strategy} for {event_label}.\"\n",
    "            + f\" Must be one of: {', '.join(get_args(MergeStrategies))}.\"\n",
    "        )\n",
    "    '''\n",
    "\n",
    "    group_key = self.kwargs.get('group_key', None)\n",
    "\n",
    "    cols = cfg.get_metrics_by_type('ordinal_categorical', group_key)\n",
    "\n",
    "    rule = filter_rule_from_cohort_dictionary(cohort_dict)\n",
    "    data = rule.filter(sg.dataframe)[\n",
    "        cfg.entity_keys + cols #\n",
    "    ]\n",
    "\n",
    "\n",
    "    data.to_csv('data.csv')\n",
    "\n",
    "    cohort_count = data[sg.entity_keys[0]].nunique()\n",
    "    if cohort_count < sg.censor_threshold:\n",
    "        return 'not enough data' #template.render_censored_plot_message(sg.censor_threshold)\n",
    "\n",
    "\n",
    "\n",
    "    tf = data[cols]\n",
    "\n",
    "    p = plot_likert.plot_likert(tf, plot_percentage=True, plot_scale=plot_likert.scales.agree)\n",
    "\n",
    "    return p"
   ]
  },
  {
   "cell_type": "code",
   "execution_count": 4,
   "metadata": {},
   "outputs": [
    {
     "data": {
      "application/vnd.jupyter.widget-view+json": {
       "model_id": "318dd46f06304dda902a773b3192aba6",
       "version_major": 2,
       "version_minor": 0
      },
      "text/plain": [
       "OrdinalCategoricalWidget(children=(HTML(value='<h3 style=\"text-align: left; margin-top: 0px;\">Rubric Metrics</…"
      ]
     },
     "execution_count": 4,
     "metadata": {},
     "output_type": "execute_result"
    }
   ],
   "source": [
    "OrdinalCategoricalWidget(group_key=\"Rubric metrics\")"
   ]
  },
  {
   "cell_type": "code",
   "execution_count": 5,
   "metadata": {},
   "outputs": [],
   "source": [
    "from seismometer.seismogram import Seismogram"
   ]
  },
  {
   "cell_type": "code",
   "execution_count": 6,
   "metadata": {},
   "outputs": [],
   "source": [
    "sg = Seismogram()\n",
    "cfg = sg.config"
   ]
  },
  {
   "cell_type": "code",
   "execution_count": 7,
   "metadata": {},
   "outputs": [
    {
     "data": {
      "text/plain": [
       "DataUsage(entity_id='Entity', context_id='Context', primary_output='Score', primary_target='Target', predict_time='Time', comparison_time='Time', event_table=EventTableMap(type='Type', time='EventTime', value='Value'), outputs=[], cohorts=[Cohort(source='Role', display_name='Role', splits=[]), Cohort(source='Location', display_name='Location', splits=[]), Cohort(source='UserFeedback', display_name='User Feedback', splits=[])], metrics=[Metric(source='Accuracy', display_name='Accuracy', metric_type='ordinal_categorical', group_key='Rubric metrics'), Metric(source='Relevancy', display_name='Relevancy', metric_type='ordinal_categorical', group_key='Rubric metrics'), Metric(source='Tone', display_name='Tone', metric_type='ordinal_categorical', group_key='Rubric metrics'), Metric(source='Structure', display_name='Structure', metric_type='ordinal_categorical', group_key='Rubric metrics'), Metric(source='UserFeedback', display_name='User Feedback', metric_type='ordinal_categorical', group_key='User feedback')], features=[], events=[], censor_min_count=10)"
      ]
     },
     "execution_count": 7,
     "metadata": {},
     "output_type": "execute_result"
    }
   ],
   "source": [
    "cfg.usage"
   ]
  },
  {
   "cell_type": "code",
   "execution_count": 8,
   "metadata": {},
   "outputs": [
    {
     "data": {
      "text/plain": [
       "['Accuracy', 'Relevancy', 'Tone', 'Structure', 'UserFeedback']"
      ]
     },
     "execution_count": 8,
     "metadata": {},
     "output_type": "execute_result"
    }
   ],
   "source": [
    "cfg.get_metrics_by_type('ordinal_categorical')"
   ]
  },
  {
   "cell_type": "code",
   "execution_count": 9,
   "metadata": {},
   "outputs": [
    {
     "data": {
      "text/plain": [
       "['UserFeedback']"
      ]
     },
     "execution_count": 9,
     "metadata": {},
     "output_type": "execute_result"
    }
   ],
   "source": [
    "cfg.get_metrics_by_type('ordinal_categorical', 'User feedback')"
   ]
  },
  {
   "cell_type": "code",
   "execution_count": 10,
   "metadata": {},
   "outputs": [
    {
     "data": {
      "text/plain": [
       "['Accuracy', 'Relevancy', 'Tone', 'Structure']"
      ]
     },
     "execution_count": 10,
     "metadata": {},
     "output_type": "execute_result"
    }
   ],
   "source": [
    "cfg.get_metrics_by_type('ordinal_categorical', 'Rubric metrics')"
   ]
  },
  {
   "cell_type": "code",
   "execution_count": null,
   "metadata": {},
   "outputs": [],
   "source": []
  }
 ],
 "metadata": {
  "kernelspec": {
   "display_name": "Python 3",
   "language": "python",
   "name": "python3"
  },
  "language_info": {
   "codemirror_mode": {
    "name": "ipython",
    "version": 3
   },
   "file_extension": ".py",
   "mimetype": "text/x-python",
   "name": "python",
   "nbconvert_exporter": "python",
   "pygments_lexer": "ipython3",
   "version": "3.11.9"
  }
 },
 "nbformat": 4,
 "nbformat_minor": 2
}
