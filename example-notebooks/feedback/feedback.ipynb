{
 "cells": [
  {
   "cell_type": "code",
   "execution_count": 1,
   "metadata": {},
   "outputs": [],
   "source": [
    "import seismometer as sm\n",
    "sm.run_startup(config_path='.')"
   ]
  },
  {
   "cell_type": "code",
   "execution_count": null,
   "metadata": {},
   "outputs": [],
   "source": [
    "sm.show_info()"
   ]
  },
  {
   "cell_type": "markdown",
   "metadata": {},
   "source": [
    "# write up\n",
    "* config updates\n",
    "  * usage - metrics section + config; group key; count vs prevalence\n",
    "  * data dictionary - categorical values display name\n",
    "* analysis\n",
    "  * ordinal categorical graph - include N/A handling in usage\n",
    "* explore controls\n",
    "  * group key"
   ]
  },
  {
   "cell_type": "markdown",
   "metadata": {},
   "source": [
    "todos -\n",
    "attach kwargs to super"
   ]
  },
  {
   "cell_type": "code",
   "execution_count": 3,
   "metadata": {},
   "outputs": [],
   "source": [
    "from seismometer.controls.explore import ExplorationSubpopulationWidget\n",
    "from seismometer.plot.mpl.decorators import render_as_svg\n",
    "import matplotlib.pyplot as plt\n",
    "import plot_likert\n",
    "from typing import Any, Callable, Optional\n",
    "\n",
    "mkwargs = {}\n",
    "\n",
    "class OrdinalCategoricalWidget(ExplorationSubpopulationWidget):\n",
    "    \"\"\"\n",
    "    A widget for exploring the model performance of a cohort.\n",
    "    \"\"\"\n",
    "\n",
    "    def __init__(\n",
    "        self,\n",
    "        **kwargs\n",
    "    ):\n",
    "        \"\"\"\n",
    "        Exploration widget for model evaluation, showing a plot for a given target,\n",
    "        score, threshold, and cohort selection.\n",
    "\n",
    "        Parameters\n",
    "        ----------\n",
    "        title : str\n",
    "            title of the control\n",
    "        plot_function : Callable[..., Any]\n",
    "            Expected to have the following signature:\n",
    "\n",
    "            .. code:: python\n",
    "\n",
    "                def plot_function(\n",
    "                    cohorts: dict[str,tuple[Any]]) -> Any\n",
    "        \"\"\"\n",
    "        super().__init__(\n",
    "            title=\"Rubric Metrics\",\n",
    "            plot_function=ordinal_plot,\n",
    "            **kwargs\n",
    "        )\n",
    "\n",
    "@render_as_svg\n",
    "def ordinal_plot(\n",
    "            cohort_dict: str) -> plt.Figure:\n",
    "    from seismometer.seismogram import Seismogram\n",
    "\n",
    "    from seismometer.data.filter import filter_rule_from_cohort_dictionary\n",
    "    from seismometer.data import pandas_helpers as pdh\n",
    "\n",
    "    sg = Seismogram()\n",
    "    cfg = sg.config\n",
    "\n",
    "    '''\n",
    "    if merge_strategy not in get_args(MergeStrategies):\n",
    "        raise ValueError(\n",
    "            f\"Invalid merge strategy {merge_strategy} for {event_label}.\"\n",
    "            + f\" Must be one of: {', '.join(get_args(MergeStrategies))}.\"\n",
    "        )\n",
    "    '''\n",
    "\n",
    "    group_key = self.kwargs.get('group_key', None)\n",
    "\n",
    "    cols = cfg.get_metrics_by_type('ordinal_categorical', group_key)\n",
    "\n",
    "    rule = filter_rule_from_cohort_dictionary(cohort_dict)\n",
    "    data = rule.filter(sg.dataframe)[\n",
    "        cfg.entity_keys + cols #\n",
    "    ]\n",
    "\n",
    "\n",
    "    data.to_csv('data.csv')\n",
    "\n",
    "    cohort_count = data[sg.entity_keys[0]].nunique()\n",
    "    if cohort_count < sg.censor_threshold:\n",
    "        return 'not enough data' #template.render_censored_plot_message(sg.censor_threshold)\n",
    "\n",
    "\n",
    "\n",
    "    tf = data[cols]\n",
    "\n",
    "    p = plot_likert.plot_likert(tf, plot_percentage=True, plot_scale=plot_likert.scales.agree)\n",
    "\n",
    "    return p"
   ]
  },
  {
   "cell_type": "code",
   "execution_count": null,
   "metadata": {},
   "outputs": [],
   "source": [
    "OrdinalCategoricalWidget(group_key=\"Rubric metrics\")"
   ]
  },
  {
   "cell_type": "code",
   "execution_count": 5,
   "metadata": {},
   "outputs": [],
   "source": [
    "from seismometer.seismogram import Seismogram"
   ]
  },
  {
   "cell_type": "code",
   "execution_count": 6,
   "metadata": {},
   "outputs": [],
   "source": [
    "sg = Seismogram()\n",
    "cfg = sg.config"
   ]
  },
  {
   "cell_type": "code",
   "execution_count": null,
   "metadata": {},
   "outputs": [],
   "source": [
    "cfg.usage"
   ]
  },
  {
   "cell_type": "code",
   "execution_count": null,
   "metadata": {},
   "outputs": [],
   "source": [
    "cfg.get_metrics_by_type('ordinal_categorical')"
   ]
  },
  {
   "cell_type": "code",
   "execution_count": null,
   "metadata": {},
   "outputs": [],
   "source": [
    "cfg.get_metrics_by_type('ordinal_categorical', 'User feedback')"
   ]
  },
  {
   "cell_type": "code",
   "execution_count": null,
   "metadata": {},
   "outputs": [],
   "source": [
    "cfg.get_metrics_by_type('ordinal_categorical', 'Rubric metrics')"
   ]
  },
  {
   "cell_type": "code",
   "execution_count": null,
   "metadata": {},
   "outputs": [],
   "source": []
  }
 ],
 "metadata": {
  "kernelspec": {
   "display_name": "Python 3",
   "language": "python",
   "name": "python3"
  },
  "language_info": {
   "codemirror_mode": {
    "name": "ipython",
    "version": 3
   },
   "file_extension": ".py",
   "mimetype": "text/x-python",
   "name": "python",
   "nbconvert_exporter": "python",
   "pygments_lexer": "ipython3",
   "version": "3.11.9"
  }
 },
 "nbformat": 4,
 "nbformat_minor": 2
}
